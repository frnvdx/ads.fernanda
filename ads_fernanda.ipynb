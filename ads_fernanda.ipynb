{
  "nbformat": 4,
  "nbformat_minor": 0,
  "metadata": {
    "colab": {
      "provenance": [],
      "authorship_tag": "ABX9TyN5DVK2TEBhD5t5xP9pKP1A",
      "include_colab_link": true
    },
    "kernelspec": {
      "name": "python3",
      "display_name": "Python 3"
    },
    "language_info": {
      "name": "python"
    }
  },
  "cells": [
    {
      "cell_type": "markdown",
      "metadata": {
        "id": "view-in-github",
        "colab_type": "text"
      },
      "source": [
        "<a href=\"https://colab.research.google.com/github/frnvdx/ads.fernanda/blob/main/ads_fernanda.ipynb\" target=\"_parent\"><img src=\"https://colab.research.google.com/assets/colab-badge.svg\" alt=\"Open In Colab\"/></a>"
      ]
    },
    {
      "cell_type": "code",
      "source": [
        "print('Olá mundo')"
      ],
      "metadata": {
        "colab": {
          "base_uri": "https://localhost:8080/"
        },
        "id": "45tyietVPAAK",
        "outputId": "81cab150-dd5c-4e68-8274-5985dfbab7ef"
      },
      "execution_count": null,
      "outputs": [
        {
          "output_type": "stream",
          "name": "stdout",
          "text": [
            "Olá mundo\n"
          ]
        }
      ]
    },
    {
      "cell_type": "markdown",
      "source": [
        "Questão 01"
      ],
      "metadata": {
        "id": "k9zbh2HmQkTD"
      }
    },
    {
      "cell_type": "code",
      "source": [
        "INDICE = 13\n",
        "SOMA = 0\n",
        "K = 0\n",
        "\n",
        "while K < INDICE:\n",
        "    K = K + 1\n",
        "    SOMA = SOMA + K\n",
        "\n",
        "print(SOMA)"
      ],
      "metadata": {
        "colab": {
          "base_uri": "https://localhost:8080/"
        },
        "id": "F_0Kqa8EPSQY",
        "outputId": "0152cf5b-3bd9-493b-bf03-3c2febbbff83"
      },
      "execution_count": null,
      "outputs": [
        {
          "output_type": "stream",
          "name": "stdout",
          "text": [
            "91\n"
          ]
        }
      ]
    },
    {
      "cell_type": "markdown",
      "source": [
        "Questão 02\n",
        "Exemplo: número 786"
      ],
      "metadata": {
        "id": "IhnJJgiSQm7p"
      }
    },
    {
      "cell_type": "code",
      "source": [
        "def fibonacci_sequence(n):\n",
        "    sequence = [0, 1]\n",
        "\n",
        "    while True:\n",
        "        next_value = sequence[-1] + sequence[-2]\n",
        "        if next_value > n:\n",
        "            break\n",
        "        sequence.append(next_value)\n",
        "\n",
        "    return sequence\n",
        "\n",
        "# Número a ser informado (786)\n",
        "numero = int(input(\"Informe um número: \"))\n",
        "\n",
        "# Calculando a sequência de Fibonacci\n",
        "sequencia = fibonacci_sequence(numero)\n",
        "# Exemplo de Número 786\n",
        "\n",
        "# Verificando se o número pertence à sequência\n",
        "if numero in sequencia:\n",
        "    print(f\"O número {numero} pertence à sequência de Fibonacci.\")\n",
        "else:\n",
        "    print(f\"O número {numero} não pertence à sequência de Fibonacci.\")"
      ],
      "metadata": {
        "colab": {
          "base_uri": "https://localhost:8080/"
        },
        "id": "4Gap1QQ2S3k6",
        "outputId": "6354d78d-e0eb-4a51-c401-5c1490da20ae"
      },
      "execution_count": null,
      "outputs": [
        {
          "output_type": "stream",
          "name": "stdout",
          "text": [
            "Informe um número: 786\n",
            "O número 786 não pertence à sequência de Fibonacci.\n"
          ]
        }
      ]
    },
    {
      "cell_type": "markdown",
      "source": [
        "Questão 03"
      ],
      "metadata": {
        "id": "j3zG05I7TeZS"
      }
    },
    {
      "cell_type": "code",
      "source": [
        "import json\n",
        "\n",
        "# Lê os dados do arquivo JSON\n",
        "with open('dados.json', 'r') as file:\n",
        "    data = json.load(file)\n",
        "\n",
        "# Extrai os valores de faturamento dos dados\n",
        "faturamentos = [dia['valor'] for dia in data if dia['valor'] > 0]\n",
        "\n",
        "# Cálculos\n",
        "menor_faturamento = min(faturamentos)\n",
        "maior_faturamento = max(faturamentos)\n",
        "media_faturamento = sum(faturamentos) / len(faturamentos)\n",
        "dias_acima_da_media = sum(1 for valor in faturamentos if valor > media_faturamento)\n",
        "\n",
        "# Resultados\n",
        "print(f\"Menor valor de faturamento: R$ {menor_faturamento}\")\n",
        "print(f\"Maior valor de faturamento: R$ {maior_faturamento}\")\n",
        "print(f\"Número de dias com faturamento acima da média: {dias_acima_da_media}\")"
      ],
      "metadata": {
        "colab": {
          "base_uri": "https://localhost:8080/"
        },
        "id": "lAJ1Fuq2YdPq",
        "outputId": "4183de5b-d611-4b2b-af38-1fd25afd7f89"
      },
      "execution_count": null,
      "outputs": [
        {
          "output_type": "stream",
          "name": "stdout",
          "text": [
            "Menor valor de faturamento: R$ 373.7838\n",
            "Maior valor de faturamento: R$ 48924.2448\n",
            "Número de dias com faturamento acima da média: 10\n"
          ]
        }
      ]
    },
    {
      "cell_type": "markdown",
      "source": [
        "Questão 04"
      ],
      "metadata": {
        "id": "z8rj8k-OboD1"
      }
    },
    {
      "cell_type": "code",
      "source": [
        "# Dados de faturamento por estado\n",
        "faturamento = {\n",
        "    'SP': 67836.43,\n",
        "    'RJ': 36678.66,\n",
        "    'MG': 29229.88,\n",
        "    'ES': 27165.48,\n",
        "    'Outros': 19849.53\n",
        "}\n",
        "\n",
        "# Calcula o faturamento total\n",
        "total_faturamento = sum(faturamento.values())\n",
        "\n",
        "# Calcula e imprime o percentual de cada estado\n",
        "percentuais = {estado: (valor / total_faturamento) * 100 for estado, valor in faturamento.items()}\n",
        "\n",
        "# Resultados\n",
        "print(\"Percentual de representação de cada estado:\")\n",
        "for estado, percentual in percentuais.items():\n",
        "    print(f\"{estado}: {percentual:.2f}%\")"
      ],
      "metadata": {
        "colab": {
          "base_uri": "https://localhost:8080/"
        },
        "id": "IRLbgpksbqEt",
        "outputId": "a0abd594-3ea3-4f4d-d9fc-481c898b293e"
      },
      "execution_count": null,
      "outputs": [
        {
          "output_type": "stream",
          "name": "stdout",
          "text": [
            "Percentual de representação de cada estado:\n",
            "SP: 37.53%\n",
            "RJ: 20.29%\n",
            "MG: 16.17%\n",
            "ES: 15.03%\n",
            "Outros: 10.98%\n"
          ]
        }
      ]
    },
    {
      "cell_type": "markdown",
      "source": [
        "Questão 05\n",
        "Exemplo 78"
      ],
      "metadata": {
        "id": "m3XaXkg3cKsW"
      }
    },
    {
      "cell_type": "code",
      "source": [
        "def inverter_string(s):\n",
        "    string_invertida = \"\"\n",
        "    for i in range(len(s) - 1, -1, -1):\n",
        "        string_invertida += s[i]\n",
        "    return string_invertida\n",
        "\n",
        "# String a ser invertida (78)\n",
        "string_original = input(\"Informe uma string para inverter: \")\n",
        "\n",
        "# Invertendo a string\n",
        "resultado = inverter_string(string_original)\n",
        "\n",
        "# Resultado\n",
        "print(f\"String original: {string_original}\")\n",
        "print(f\"String invertida: {resultado}\")"
      ],
      "metadata": {
        "colab": {
          "base_uri": "https://localhost:8080/"
        },
        "id": "UeILvf02cMXz",
        "outputId": "d5334d7e-0ec0-45ec-824b-99f4be996c46"
      },
      "execution_count": null,
      "outputs": [
        {
          "output_type": "stream",
          "name": "stdout",
          "text": [
            "Informe uma string para inverter: 78\n",
            "String original: 78\n",
            "String invertida: 87\n"
          ]
        }
      ]
    }
  ]
}